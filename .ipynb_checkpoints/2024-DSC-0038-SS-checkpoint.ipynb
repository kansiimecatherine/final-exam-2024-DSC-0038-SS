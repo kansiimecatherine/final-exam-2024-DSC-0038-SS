{
 "cells": [
  {
   "cell_type": "markdown",
   "id": "6d4b6286-53d1-4c8c-9cc9-96009315d84e",
   "metadata": {},
   "source": [
    "# Number one"
   ]
  },
  {
   "cell_type": "markdown",
   "id": "a7117d7f-2ff5-4d5f-9d4e-916d068f82f1",
   "metadata": {},
   "source": [
    "## importing the libraries"
   ]
  },
  {
   "cell_type": "code",
   "execution_count": 85,
   "id": "4d7d4a80-144f-40b6-abe8-7754c7cca446",
   "metadata": {},
   "outputs": [],
   "source": [
    "import pandas as pd\n",
    "import numpy as np\n",
    "import seaborn as sns\n",
    "import matplotlib.pyplot as plt\n",
    "from sklearn.model_selection import train_test_split\n",
    "from sklearn.linear_model import LinearRegression\n",
    "from sklearn.metrics import mean_squared_error, r2_score\n",
    "from sklearn.metrics import mean_absolute_error\n",
    "from datetime import datetime,timedelta"
   ]
  },
  {
   "cell_type": "markdown",
   "id": "dee1d736-9a77-48e7-8e24-87e33b4ef7fc",
   "metadata": {},
   "source": [
    "## (a)"
   ]
  },
  {
   "cell_type": "code",
   "execution_count": 12,
   "id": "bce95805-cbe0-405a-b83b-d879278855fc",
   "metadata": {},
   "outputs": [
    {
     "data": {
      "text/html": [
       "<div>\n",
       "<style scoped>\n",
       "    .dataframe tbody tr th:only-of-type {\n",
       "        vertical-align: middle;\n",
       "    }\n",
       "\n",
       "    .dataframe tbody tr th {\n",
       "        vertical-align: top;\n",
       "    }\n",
       "\n",
       "    .dataframe thead th {\n",
       "        text-align: right;\n",
       "    }\n",
       "</style>\n",
       "<table border=\"1\" class=\"dataframe\">\n",
       "  <thead>\n",
       "    <tr style=\"text-align: right;\">\n",
       "      <th></th>\n",
       "      <th>Age</th>\n",
       "      <th>Sex</th>\n",
       "      <th>Marital_status</th>\n",
       "      <th>Number_of_children</th>\n",
       "      <th>Family_size</th>\n",
       "      <th>Education-degree_recode</th>\n",
       "      <th>Education-degree_recode 2</th>\n",
       "      <th>Education</th>\n",
       "      <th>Race_ethnicity-multi_recode</th>\n",
       "      <th>Immigrate-year</th>\n",
       "      <th>Birthplace_recode</th>\n",
       "      <th>Speaks_English</th>\n",
       "      <th>Employment_status</th>\n",
       "      <th>Income-wages</th>\n",
       "      <th>Region_recode</th>\n",
       "      <th>Region-division_recode</th>\n",
       "      <th>Moved</th>\n",
       "      <th>Year</th>\n",
       "      <th>state</th>\n",
       "    </tr>\n",
       "  </thead>\n",
       "  <tbody>\n",
       "    <tr>\n",
       "      <th>0</th>\n",
       "      <td>30</td>\n",
       "      <td>Male</td>\n",
       "      <td>Married, spouse present</td>\n",
       "      <td>2</td>\n",
       "      <td>4</td>\n",
       "      <td>Masterâ€™s or professional degree</td>\n",
       "      <td>Master or professional degree</td>\n",
       "      <td>Master or PhD or professional degree</td>\n",
       "      <td>Non-Hispanic White</td>\n",
       "      <td>0</td>\n",
       "      <td>U.S. state, territory, or outlying region</td>\n",
       "      <td>Yes, speaks only English</td>\n",
       "      <td>Employed</td>\n",
       "      <td>63000</td>\n",
       "      <td>South</td>\n",
       "      <td>East South Central</td>\n",
       "      <td>Same house</td>\n",
       "      <td>2020</td>\n",
       "      <td>Tennessee</td>\n",
       "    </tr>\n",
       "    <tr>\n",
       "      <th>1</th>\n",
       "      <td>28</td>\n",
       "      <td>Female</td>\n",
       "      <td>Married, spouse present</td>\n",
       "      <td>1 child present</td>\n",
       "      <td>3</td>\n",
       "      <td>Masterâ€™s or professional degree</td>\n",
       "      <td>Master or professional degree</td>\n",
       "      <td>Master or PhD or professional degree</td>\n",
       "      <td>Non-Hispanic White</td>\n",
       "      <td>0</td>\n",
       "      <td>U.S. state, territory, or outlying region</td>\n",
       "      <td>Yes, speaks only English</td>\n",
       "      <td>Employed</td>\n",
       "      <td>46000</td>\n",
       "      <td>South</td>\n",
       "      <td>East South Central</td>\n",
       "      <td>Same house</td>\n",
       "      <td>2020</td>\n",
       "      <td>Tennessee</td>\n",
       "    </tr>\n",
       "    <tr>\n",
       "      <th>2</th>\n",
       "      <td>34</td>\n",
       "      <td>Male</td>\n",
       "      <td>Married, spouse present</td>\n",
       "      <td>1 child present</td>\n",
       "      <td>3</td>\n",
       "      <td>Bachelorâ€™s degree</td>\n",
       "      <td>Bachelor degree</td>\n",
       "      <td>Associate or Bachelor degree</td>\n",
       "      <td>Non-Hispanic White</td>\n",
       "      <td>0</td>\n",
       "      <td>U.S. state, territory, or outlying region</td>\n",
       "      <td>Yes, speaks only English</td>\n",
       "      <td>Employed</td>\n",
       "      <td>45000</td>\n",
       "      <td>South</td>\n",
       "      <td>East South Central</td>\n",
       "      <td>Same house</td>\n",
       "      <td>2020</td>\n",
       "      <td>Tennessee</td>\n",
       "    </tr>\n",
       "    <tr>\n",
       "      <th>3</th>\n",
       "      <td>58</td>\n",
       "      <td>Female</td>\n",
       "      <td>Married, spouse absent</td>\n",
       "      <td>1 child present</td>\n",
       "      <td>2</td>\n",
       "      <td>1 or more years of college, no degree</td>\n",
       "      <td>1 or more years of college, no degree</td>\n",
       "      <td>1 or more years of college, no degree</td>\n",
       "      <td>Non-Hispanic White</td>\n",
       "      <td>0</td>\n",
       "      <td>U.S. state, territory, or outlying region</td>\n",
       "      <td>Yes, speaks only English</td>\n",
       "      <td>Employed</td>\n",
       "      <td>55000</td>\n",
       "      <td>South</td>\n",
       "      <td>East South Central</td>\n",
       "      <td>Same house</td>\n",
       "      <td>2020</td>\n",
       "      <td>Tennessee</td>\n",
       "    </tr>\n",
       "    <tr>\n",
       "      <th>4</th>\n",
       "      <td>39</td>\n",
       "      <td>Male</td>\n",
       "      <td>Never married/single</td>\n",
       "      <td>0 children present</td>\n",
       "      <td>1</td>\n",
       "      <td>Bachelorâ€™s degree</td>\n",
       "      <td>Bachelor degree</td>\n",
       "      <td>Associate or Bachelor degree</td>\n",
       "      <td>Non-Hispanic White</td>\n",
       "      <td>0</td>\n",
       "      <td>U.S. state, territory, or outlying region</td>\n",
       "      <td>Yes, speaks only English</td>\n",
       "      <td>Employed</td>\n",
       "      <td>12000</td>\n",
       "      <td>South</td>\n",
       "      <td>East South Central</td>\n",
       "      <td>Same house</td>\n",
       "      <td>2020</td>\n",
       "      <td>Tennessee</td>\n",
       "    </tr>\n",
       "    <tr>\n",
       "      <th>...</th>\n",
       "      <td>...</td>\n",
       "      <td>...</td>\n",
       "      <td>...</td>\n",
       "      <td>...</td>\n",
       "      <td>...</td>\n",
       "      <td>...</td>\n",
       "      <td>...</td>\n",
       "      <td>...</td>\n",
       "      <td>...</td>\n",
       "      <td>...</td>\n",
       "      <td>...</td>\n",
       "      <td>...</td>\n",
       "      <td>...</td>\n",
       "      <td>...</td>\n",
       "      <td>...</td>\n",
       "      <td>...</td>\n",
       "      <td>...</td>\n",
       "      <td>...</td>\n",
       "      <td>...</td>\n",
       "    </tr>\n",
       "    <tr>\n",
       "      <th>4360</th>\n",
       "      <td>67</td>\n",
       "      <td>Male</td>\n",
       "      <td>Married, spouse present</td>\n",
       "      <td>0 children present</td>\n",
       "      <td>2</td>\n",
       "      <td>Bachelorâ€™s degree</td>\n",
       "      <td>Bachelor degree</td>\n",
       "      <td>Associate or Bachelor degree</td>\n",
       "      <td>Non-Hispanic White</td>\n",
       "      <td>0</td>\n",
       "      <td>U.S. state, territory, or outlying region</td>\n",
       "      <td>Yes, speaks only English</td>\n",
       "      <td>Employed</td>\n",
       "      <td>40000</td>\n",
       "      <td>Midwest</td>\n",
       "      <td>West North Central</td>\n",
       "      <td>Same house</td>\n",
       "      <td>2020</td>\n",
       "      <td>North Dakota</td>\n",
       "    </tr>\n",
       "    <tr>\n",
       "      <th>4361</th>\n",
       "      <td>48</td>\n",
       "      <td>Male</td>\n",
       "      <td>Married, spouse present</td>\n",
       "      <td>4</td>\n",
       "      <td>6</td>\n",
       "      <td>Associateâ€™s degree</td>\n",
       "      <td>Associate degree</td>\n",
       "      <td>Associate or Bachelor degree</td>\n",
       "      <td>Non-Hispanic White</td>\n",
       "      <td>0</td>\n",
       "      <td>U.S. state, territory, or outlying region</td>\n",
       "      <td>Yes, speaks only English</td>\n",
       "      <td>Employed</td>\n",
       "      <td>65000</td>\n",
       "      <td>Midwest</td>\n",
       "      <td>West North Central</td>\n",
       "      <td>Same house</td>\n",
       "      <td>2020</td>\n",
       "      <td>North Dakota</td>\n",
       "    </tr>\n",
       "    <tr>\n",
       "      <th>4362</th>\n",
       "      <td>33</td>\n",
       "      <td>Male</td>\n",
       "      <td>Married, spouse absent</td>\n",
       "      <td>0 children present</td>\n",
       "      <td>1</td>\n",
       "      <td>Associateâ€™s degree</td>\n",
       "      <td>Associate degree</td>\n",
       "      <td>Associate or Bachelor degree</td>\n",
       "      <td>Non-Hispanic Black</td>\n",
       "      <td>2017</td>\n",
       "      <td>Africa</td>\n",
       "      <td>Yes, speaks very well</td>\n",
       "      <td>Employed</td>\n",
       "      <td>45000</td>\n",
       "      <td>Midwest</td>\n",
       "      <td>West North Central</td>\n",
       "      <td>Same house</td>\n",
       "      <td>2020</td>\n",
       "      <td>North Dakota</td>\n",
       "    </tr>\n",
       "    <tr>\n",
       "      <th>4363</th>\n",
       "      <td>22</td>\n",
       "      <td>Female</td>\n",
       "      <td>Never married/single</td>\n",
       "      <td>0 children present</td>\n",
       "      <td>2</td>\n",
       "      <td>1 or more years of college, no degree</td>\n",
       "      <td>1 or more years of college, no degree</td>\n",
       "      <td>1 or more years of college, no degree</td>\n",
       "      <td>Non-Hispanic White</td>\n",
       "      <td>0</td>\n",
       "      <td>U.S. state, territory, or outlying region</td>\n",
       "      <td>Yes, speaks only English</td>\n",
       "      <td>Employed</td>\n",
       "      <td>500</td>\n",
       "      <td>Midwest</td>\n",
       "      <td>West North Central</td>\n",
       "      <td>Same house</td>\n",
       "      <td>2020</td>\n",
       "      <td>North Dakota</td>\n",
       "    </tr>\n",
       "    <tr>\n",
       "      <th>4364</th>\n",
       "      <td>49</td>\n",
       "      <td>Female</td>\n",
       "      <td>Married, spouse present</td>\n",
       "      <td>2</td>\n",
       "      <td>4</td>\n",
       "      <td>Masterâ€™s or professional degree</td>\n",
       "      <td>Master or professional degree</td>\n",
       "      <td>Master or PhD or professional degree</td>\n",
       "      <td>Non-Hispanic White</td>\n",
       "      <td>0</td>\n",
       "      <td>U.S. state, territory, or outlying region</td>\n",
       "      <td>Yes, speaks only English</td>\n",
       "      <td>Employed</td>\n",
       "      <td>498000</td>\n",
       "      <td>Midwest</td>\n",
       "      <td>West North Central</td>\n",
       "      <td>Same house</td>\n",
       "      <td>2020</td>\n",
       "      <td>North Dakota</td>\n",
       "    </tr>\n",
       "  </tbody>\n",
       "</table>\n",
       "<p>4365 rows × 19 columns</p>\n",
       "</div>"
      ],
      "text/plain": [
       "      Age     Sex           Marital_status  Number_of_children  Family_size  \\\n",
       "0      30    Male  Married, spouse present                   2            4   \n",
       "1      28  Female  Married, spouse present     1 child present            3   \n",
       "2      34    Male  Married, spouse present     1 child present            3   \n",
       "3      58  Female   Married, spouse absent     1 child present            2   \n",
       "4      39    Male     Never married/single  0 children present            1   \n",
       "...   ...     ...                      ...                 ...          ...   \n",
       "4360   67    Male  Married, spouse present  0 children present            2   \n",
       "4361   48    Male  Married, spouse present                   4            6   \n",
       "4362   33    Male   Married, spouse absent  0 children present            1   \n",
       "4363   22  Female     Never married/single  0 children present            2   \n",
       "4364   49  Female  Married, spouse present                   2            4   \n",
       "\n",
       "                    Education-degree_recode  \\\n",
       "0         Masterâ€™s or professional degree   \n",
       "1         Masterâ€™s or professional degree   \n",
       "2                       Bachelorâ€™s degree   \n",
       "3     1 or more years of college, no degree   \n",
       "4                       Bachelorâ€™s degree   \n",
       "...                                     ...   \n",
       "4360                    Bachelorâ€™s degree   \n",
       "4361                   Associateâ€™s degree   \n",
       "4362                   Associateâ€™s degree   \n",
       "4363  1 or more years of college, no degree   \n",
       "4364      Masterâ€™s or professional degree   \n",
       "\n",
       "                  Education-degree_recode 2  \\\n",
       "0             Master or professional degree   \n",
       "1             Master or professional degree   \n",
       "2                           Bachelor degree   \n",
       "3     1 or more years of college, no degree   \n",
       "4                           Bachelor degree   \n",
       "...                                     ...   \n",
       "4360                        Bachelor degree   \n",
       "4361                       Associate degree   \n",
       "4362                       Associate degree   \n",
       "4363  1 or more years of college, no degree   \n",
       "4364          Master or professional degree   \n",
       "\n",
       "                                  Education Race_ethnicity-multi_recode  \\\n",
       "0      Master or PhD or professional degree          Non-Hispanic White   \n",
       "1      Master or PhD or professional degree          Non-Hispanic White   \n",
       "2              Associate or Bachelor degree          Non-Hispanic White   \n",
       "3     1 or more years of college, no degree          Non-Hispanic White   \n",
       "4              Associate or Bachelor degree          Non-Hispanic White   \n",
       "...                                     ...                         ...   \n",
       "4360           Associate or Bachelor degree          Non-Hispanic White   \n",
       "4361           Associate or Bachelor degree          Non-Hispanic White   \n",
       "4362           Associate or Bachelor degree          Non-Hispanic Black   \n",
       "4363  1 or more years of college, no degree          Non-Hispanic White   \n",
       "4364   Master or PhD or professional degree          Non-Hispanic White   \n",
       "\n",
       "      Immigrate-year                          Birthplace_recode  \\\n",
       "0                  0  U.S. state, territory, or outlying region   \n",
       "1                  0  U.S. state, territory, or outlying region   \n",
       "2                  0  U.S. state, territory, or outlying region   \n",
       "3                  0  U.S. state, territory, or outlying region   \n",
       "4                  0  U.S. state, territory, or outlying region   \n",
       "...              ...                                        ...   \n",
       "4360               0  U.S. state, territory, or outlying region   \n",
       "4361               0  U.S. state, territory, or outlying region   \n",
       "4362            2017                                     Africa   \n",
       "4363               0  U.S. state, territory, or outlying region   \n",
       "4364               0  U.S. state, territory, or outlying region   \n",
       "\n",
       "                Speaks_English Employment_status  Income-wages Region_recode  \\\n",
       "0     Yes, speaks only English          Employed         63000         South   \n",
       "1     Yes, speaks only English          Employed         46000         South   \n",
       "2     Yes, speaks only English          Employed         45000         South   \n",
       "3     Yes, speaks only English          Employed         55000         South   \n",
       "4     Yes, speaks only English          Employed         12000         South   \n",
       "...                        ...               ...           ...           ...   \n",
       "4360  Yes, speaks only English          Employed         40000       Midwest   \n",
       "4361  Yes, speaks only English          Employed         65000       Midwest   \n",
       "4362     Yes, speaks very well          Employed         45000       Midwest   \n",
       "4363  Yes, speaks only English          Employed           500       Midwest   \n",
       "4364  Yes, speaks only English          Employed        498000       Midwest   \n",
       "\n",
       "     Region-division_recode       Moved  Year         state  \n",
       "0        East South Central  Same house  2020     Tennessee  \n",
       "1        East South Central  Same house  2020     Tennessee  \n",
       "2        East South Central  Same house  2020     Tennessee  \n",
       "3        East South Central  Same house  2020     Tennessee  \n",
       "4        East South Central  Same house  2020     Tennessee  \n",
       "...                     ...         ...   ...           ...  \n",
       "4360     West North Central  Same house  2020  North Dakota  \n",
       "4361     West North Central  Same house  2020  North Dakota  \n",
       "4362     West North Central  Same house  2020  North Dakota  \n",
       "4363     West North Central  Same house  2020  North Dakota  \n",
       "4364     West North Central  Same house  2020  North Dakota  \n",
       "\n",
       "[4365 rows x 19 columns]"
      ]
     },
     "execution_count": 12,
     "metadata": {},
     "output_type": "execute_result"
    }
   ],
   "source": [
    "# importing the dataset\n",
    "census_df = pd.read_excel('Wages 2020Census cleaned.xlsx')\n",
    "census_df"
   ]
  },
  {
   "cell_type": "code",
   "execution_count": 3,
   "id": "c60a3166-4533-415f-b13b-ca3c94ef3bc1",
   "metadata": {},
   "outputs": [
    {
     "name": "stdout",
     "output_type": "stream",
     "text": [
      "Collecting openpyxl\n",
      "  Downloading openpyxl-3.1.5-py2.py3-none-any.whl.metadata (2.5 kB)\n",
      "Collecting et-xmlfile (from openpyxl)\n",
      "  Downloading et_xmlfile-2.0.0-py3-none-any.whl.metadata (2.7 kB)\n",
      "Downloading openpyxl-3.1.5-py2.py3-none-any.whl (250 kB)\n",
      "Downloading et_xmlfile-2.0.0-py3-none-any.whl (18 kB)\n",
      "Installing collected packages: et-xmlfile, openpyxl\n",
      "Successfully installed et-xmlfile-2.0.0 openpyxl-3.1.5\n",
      "Note: you may need to restart the kernel to use updated packages.\n"
     ]
    },
    {
     "name": "stderr",
     "output_type": "stream",
     "text": [
      "\n",
      "[notice] A new release of pip is available: 24.2 -> 24.3.1\n",
      "[notice] To update, run: python.exe -m pip install --upgrade pip\n"
     ]
    }
   ],
   "source": [
    "pip install openpyxl # installed openpyxl to read and modify the excel dataset"
   ]
  },
  {
   "cell_type": "markdown",
   "id": "ef385af2-a906-40c7-b3d5-3a236044fe83",
   "metadata": {},
   "source": [
    "* Variation is the difference from the central value within a data set.\n",
    "* Variability is the specific measure of the amount of variation present in a dataset.\n"
   ]
  },
  {
   "cell_type": "code",
   "execution_count": 12,
   "id": "5b9138d7-f623-4dfb-97bc-cf6b59ac9926",
   "metadata": {},
   "outputs": [
    {
     "name": "stdout",
     "output_type": "stream",
     "text": [
      "Median Income is : 41000.0\n"
     ]
    }
   ],
   "source": [
    "# using the median to determine the typical yearly income or amount of money most people earned among the 4365 people using\n",
    "# a variable Income-wages that contains all the yearly income values for all the 4365 people in the dataset\n",
    "\n",
    "#calculating the median\n",
    "median_income = census_df['Income-wages'].median()\n",
    "print(\"Median Income is :\", median_income)\n"
   ]
  },
  {
   "cell_type": "markdown",
   "id": "cb8e80f0-a1a3-4fa3-9a93-b84b0326e8f2",
   "metadata": {},
   "source": [
    "* I used the median to get the \"typical\"yearly income because it shows what the middle person earns,without being affected by many values"
   ]
  },
  {
   "cell_type": "markdown",
   "id": "c0dd5ddc-c8cc-424f-8eb6-ee176d39572e",
   "metadata": {},
   "source": [
    "## (b)"
   ]
  },
  {
   "cell_type": "code",
   "execution_count": 20,
   "id": "23ac5abd-87a3-4732-af81-abb7c501ac44",
   "metadata": {},
   "outputs": [
    {
     "data": {
      "text/plain": [
       "count      4365.000000\n",
       "mean      58704.164948\n",
       "std       68338.061435\n",
       "min          30.000000\n",
       "25%       22000.000000\n",
       "50%       41000.000000\n",
       "75%       71000.000000\n",
       "max      661000.000000\n",
       "Name: Income-wages, dtype: float64"
      ]
     },
     "execution_count": 20,
     "metadata": {},
     "output_type": "execute_result"
    }
   ],
   "source": [
    "#Yes they vary as shown by the following illustration and explanations  \n",
    "#using the .describe() function\n",
    "census_df['Income-wages'].describe()"
   ]
  },
  {
   "cell_type": "markdown",
   "id": "ca26a72e-8ceb-4884-978f-4b69c338f016",
   "metadata": {},
   "source": [
    "* The average(mean) yearly income is 58704, The standard deviation is 68338 showing how much incomes vary from the mean.\n",
    "* The lowest income(min) is 30 and the highest income(max) is 661000.\n",
    "* 25th percentile(25%) is the income below which 25% of the people fall and its value is 22000.\n",
    "* 50% (median), the middle value of income is 41000 and 75% the 75th percentile is the one income below which 75% of the people fall and its value is 71000\n",
    "  \n",
    "  \n"
   ]
  },
  {
   "cell_type": "markdown",
   "id": "b4f8f878-4dc9-4930-8483-6dfdf0e04a8b",
   "metadata": {},
   "source": [
    "The standard deviation (std) shows how the incomes are spread out from the average .A higher std means that there is more variation in the incomes because people earn the incomes that are spread over the large range. A lower standard deviation means that incomes are more similar to each other or are close to the mean \n",
    "\n",
    "Min and Max show the range of incomes meaning the larger the difference between the min and max values, the more in the dataset.\n",
    "From the values in the above table the max is greater than the min which indicates that some people earn much less and others earn much more showing high variation in income.\n",
    "\n",
    "The Percentiles (25%, 50%, 75%) give an idea of how the income is distributed,for instance if 25% of people earning below 22000 and 75% earning below 71000 shows the spread of income among the people."
   ]
  },
  {
   "cell_type": "markdown",
   "id": "da5b17b3-1c92-4e35-880a-9a4e9c70cd6a",
   "metadata": {},
   "source": [
    "## (c)"
   ]
  },
  {
   "cell_type": "markdown",
   "id": "1377bc74-0c4d-4a64-add5-5382d7da6078",
   "metadata": {},
   "source": [
    "* IQR(Interquartile Range) and std(standard deviation) with no variation\n",
    "  \n",
    "If there were no variability in the yearly income for these 4,365 people it means that every person would have the same income because;\n",
    "\n",
    "* The standard deviation measures how much the incomes deviate from the mean. If all the incomes are the same, there is no deviation from the mean, so the standard deviation would be a zero ( 0 ) because if everyone has the same income it means that there is no difference between any person's income and the average income(mean).\n",
    "  \n",
    "* Interquartile Range (IQR) is the difference between the 75th percentile (75%) known as the upper quartile(Q3) and the 25th percentile (25%) known as the lower quartile(Q2).This shows the range in which the middle 50%(median) of the yearly income falls.Therefore if all the incomes are the same, the 25th percentile, 50th percentile (median), and 75th percentile will all have the same value.\n",
    "The IQR will be zero because if the 75th and the 25th percentiles are the same their difference will be a zero meaning their is no spread between the middle(50%) of the yearly incomes of the 4365 people.\n",
    "\n",
    "This implies that everyone had exactly the same yearly income, with no variation at all."
   ]
  },
  {
   "cell_type": "code",
   "execution_count": 50,
   "id": "bf49b58b-7966-4bc6-a80e-cc0dbb5ce88f",
   "metadata": {},
   "outputs": [
    {
     "name": "stdout",
     "output_type": "stream",
     "text": [
      "Standard Deviation is : 0.0\n",
      "Interquartile Range (IQR) is : 0.0\n"
     ]
    }
   ],
   "source": [
    "# proving practically\n",
    "# Creating a new dataframe same as the census_df\n",
    "new_df = pd.DataFrame({'Income-wages': np.full(4365, 19)})\n",
    "\n",
    "# Calculating the standard deviation\n",
    "standard_deviation = new_df['Income-wages'].std()\n",
    "\n",
    "# Calculating Q1 and Q3\n",
    "lower_quartile = new_df['Income-wages'].quantile(0.25)  # 0.25 from 25/100\n",
    "upper_quartile = new_df['Income-wages'].quantile(0.75)  # 0.75 from 75/100\n",
    "\n",
    "# Calculating the IQR\n",
    "IQR = upper_quartile - lower_quartile\n",
    "\n",
    "# Printing results\n",
    "print(\"Standard Deviation is :\", standard_deviation)\n",
    "print(\"Interquartile Range (IQR) is :\", IQR)\n"
   ]
  },
  {
   "cell_type": "markdown",
   "id": "f984f82d-26e4-4ca0-b2db-5cb7c5862a09",
   "metadata": {},
   "source": [
    "## (d)"
   ]
  },
  {
   "cell_type": "code",
   "execution_count": 7,
   "id": "233bf42b-37a7-473e-83bb-728c8601702a",
   "metadata": {},
   "outputs": [],
   "source": [
    "#the values of the mean, median, Q1, Q3, minimum and maximum yearly incomes\n",
    "#be if there was no variability"
   ]
  },
  {
   "cell_type": "markdown",
   "id": "ab2b3baf-65ac-4809-b2db-5309d5ece594",
   "metadata": {},
   "source": [
    "* If there was no variability in the yearly income it means that everyone has the same income, then all the statistical measures will be the same because all the values are similar.\n",
    "  \n",
    "* For the Mean (Average) which is the total sum of all the yearly incomes divided by the number of people.Since everyone has the same income then mean will the same as the income value\n",
    "\n",
    "  \n",
    "* For the Median (Middle value) which is the middle value when all the yearly incomes are sorted or arranged.Since everyone has the same income then the middle value will also be that income.\n",
    "\n",
    "  \n",
    "* For Q1 (25th percentile) aslo known as the lower quartile is the value below which 25% of the yearly incomes fall.Since all incomes are the same then Q1 will be equal to that income.\n",
    "\n",
    "* For Q3 (75th percentile) also known as the upper quartile is the value below which 75% of the the yearly incomes fall and since all the incomes are the same, Q3 will also be equal to that income.\n",
    "\n",
    "* For Minimum which is the smallest yearly income value in the dataset. Since everyone has the same income, the minimum will be that value\n",
    "\n",
    "* For Minimum which is the highest yearly income value in the dataset the fact that everyone has the same income, the minimum will be that value."
   ]
  },
  {
   "cell_type": "code",
   "execution_count": 8,
   "id": "64309671-4ba7-4785-ba55-dc138b3479fc",
   "metadata": {},
   "outputs": [
    {
     "name": "stdout",
     "output_type": "stream",
     "text": [
      "The mean income is: 19.0\n",
      "The middle income is: 19.0\n",
      "The Q1 income is: 19.0\n",
      "The Q3 income is: 19.0\n",
      "The maximum income is: 19\n",
      "The minimum income is: 19\n"
     ]
    }
   ],
   "source": [
    "#proving practically\n",
    "mean_income = new_df['Income-wages'].mean()  # Mean (Average)\n",
    "\n",
    "median_income = new_df['Income-wages'].median()  # Median\n",
    "\n",
    "Q1_income = new_df['Income-wages'].quantile(0.25)  # 25th percentile (Q1)\n",
    "\n",
    "Q3_income = new_df['Income-wages'].quantile(0.75)  # 75th percentile (Q3)\n",
    "\n",
    "min_income = new_df['Income-wages'].min()  # Minimum income\n",
    "\n",
    "max_income = new_df['Income-wages'].max() #maximum income\n",
    "\n",
    "print(f\"The mean income is: {mean_income}\")\n",
    "print(f\"The middle income is: {median_income}\")\n",
    "print(f\"The Q1 income is: {Q1_income}\")\n",
    "print(f\"The Q3 income is: {Q3_income}\")\n",
    "print(f\"The maximum income is: {max_income}\")\n",
    "print(f\"The minimum income is: {min_income}\")"
   ]
  },
  {
   "cell_type": "markdown",
   "id": "d3ad55b9-b462-4d83-9650-ba7d2ad24a17",
   "metadata": {},
   "source": [
    "## (e)"
   ]
  },
  {
   "cell_type": "code",
   "execution_count": 31,
   "id": "5e2bcac4-a408-4fe6-bedc-581a4e27b24f",
   "metadata": {},
   "outputs": [
    {
     "data": {
      "image/png": "[encoded data removed]",
      "text/plain": [
       "<Figure size 1700x1000 with 1 Axes>"
      ]
     },
     "metadata": {},
     "output_type": "display_data"
    }
   ],
   "source": [
    "plt.figure(figsize=(17, 10))\n",
    "sns.boxplot(x='Education', y='Income-wages', data=census_df,color = 'green')\n",
    "plt.title('Income level by Education Level')\n",
    "plt.show()"
   ]
  },
  {
   "cell_type": "markdown",
   "id": "da4f249a-66cd-4767-ad4f-57e7ebd6f5ce",
   "metadata": {},
   "source": [
    "A decrease in the education level decreases the income levels because some workers may be un qualified.\n"
   ]
  },
  {
   "cell_type": "code",
   "execution_count": null,
   "id": "744e8d7d-b835-4db9-bfa6-d1f9c68a9281",
   "metadata": {},
   "outputs": [],
   "source": [
    "# for number one i consulted and used the note book called intro_pandas, mathematics_primarilies (number 05)"
   ]
  },
  {
   "cell_type": "markdown",
   "id": "619072ac-e955-4eb7-932e-8e59cc641d6c",
   "metadata": {},
   "source": [
    "# Number two"
   ]
  },
  {
   "cell_type": "code",
   "execution_count": 33,
   "id": "47c2082f-2b5e-47cb-bb91-787d309feb24",
   "metadata": {},
   "outputs": [
    {
     "data": {
      "text/html": [
       "<div>\n",
       "<style scoped>\n",
       "    .dataframe tbody tr th:only-of-type {\n",
       "        vertical-align: middle;\n",
       "    }\n",
       "\n",
       "    .dataframe tbody tr th {\n",
       "        vertical-align: top;\n",
       "    }\n",
       "\n",
       "    .dataframe thead th {\n",
       "        text-align: right;\n",
       "    }\n",
       "</style>\n",
       "<table border=\"1\" class=\"dataframe\">\n",
       "  <thead>\n",
       "    <tr style=\"text-align: right;\">\n",
       "      <th></th>\n",
       "      <th>StudentID</th>\n",
       "      <th>Gender</th>\n",
       "      <th>Age</th>\n",
       "      <th>StudyHoursPerWeek</th>\n",
       "      <th>AttendanceRate</th>\n",
       "      <th>GPA</th>\n",
       "      <th>Major</th>\n",
       "      <th>PartTimeJob</th>\n",
       "      <th>ExtraCurricularActivities</th>\n",
       "    </tr>\n",
       "  </thead>\n",
       "  <tbody>\n",
       "    <tr>\n",
       "      <th>0</th>\n",
       "      <td>1</td>\n",
       "      <td>Male</td>\n",
       "      <td>24</td>\n",
       "      <td>37</td>\n",
       "      <td>90.75</td>\n",
       "      <td>3.47</td>\n",
       "      <td>Arts</td>\n",
       "      <td>Yes</td>\n",
       "      <td>No</td>\n",
       "    </tr>\n",
       "    <tr>\n",
       "      <th>1</th>\n",
       "      <td>2</td>\n",
       "      <td>Female</td>\n",
       "      <td>22</td>\n",
       "      <td>37</td>\n",
       "      <td>74.90</td>\n",
       "      <td>2.32</td>\n",
       "      <td>Education</td>\n",
       "      <td>No</td>\n",
       "      <td>No</td>\n",
       "    </tr>\n",
       "    <tr>\n",
       "      <th>2</th>\n",
       "      <td>3</td>\n",
       "      <td>Male</td>\n",
       "      <td>22</td>\n",
       "      <td>10</td>\n",
       "      <td>53.36</td>\n",
       "      <td>2.38</td>\n",
       "      <td>Business</td>\n",
       "      <td>No</td>\n",
       "      <td>No</td>\n",
       "    </tr>\n",
       "    <tr>\n",
       "      <th>3</th>\n",
       "      <td>4</td>\n",
       "      <td>Male</td>\n",
       "      <td>24</td>\n",
       "      <td>10</td>\n",
       "      <td>70.26</td>\n",
       "      <td>3.46</td>\n",
       "      <td>Science</td>\n",
       "      <td>Yes</td>\n",
       "      <td>No</td>\n",
       "    </tr>\n",
       "    <tr>\n",
       "      <th>4</th>\n",
       "      <td>5</td>\n",
       "      <td>Male</td>\n",
       "      <td>18</td>\n",
       "      <td>19</td>\n",
       "      <td>74.87</td>\n",
       "      <td>2.31</td>\n",
       "      <td>Education</td>\n",
       "      <td>Yes</td>\n",
       "      <td>No</td>\n",
       "    </tr>\n",
       "    <tr>\n",
       "      <th>...</th>\n",
       "      <td>...</td>\n",
       "      <td>...</td>\n",
       "      <td>...</td>\n",
       "      <td>...</td>\n",
       "      <td>...</td>\n",
       "      <td>...</td>\n",
       "      <td>...</td>\n",
       "      <td>...</td>\n",
       "      <td>...</td>\n",
       "    </tr>\n",
       "    <tr>\n",
       "      <th>495</th>\n",
       "      <td>496</td>\n",
       "      <td>Male</td>\n",
       "      <td>22</td>\n",
       "      <td>37</td>\n",
       "      <td>76.61</td>\n",
       "      <td>2.97</td>\n",
       "      <td>Science</td>\n",
       "      <td>No</td>\n",
       "      <td>No</td>\n",
       "    </tr>\n",
       "    <tr>\n",
       "      <th>496</th>\n",
       "      <td>497</td>\n",
       "      <td>Male</td>\n",
       "      <td>23</td>\n",
       "      <td>11</td>\n",
       "      <td>56.29</td>\n",
       "      <td>3.20</td>\n",
       "      <td>Science</td>\n",
       "      <td>No</td>\n",
       "      <td>No</td>\n",
       "    </tr>\n",
       "    <tr>\n",
       "      <th>497</th>\n",
       "      <td>498</td>\n",
       "      <td>Female</td>\n",
       "      <td>20</td>\n",
       "      <td>6</td>\n",
       "      <td>56.64</td>\n",
       "      <td>3.20</td>\n",
       "      <td>Science</td>\n",
       "      <td>No</td>\n",
       "      <td>Yes</td>\n",
       "    </tr>\n",
       "    <tr>\n",
       "      <th>498</th>\n",
       "      <td>499</td>\n",
       "      <td>Male</td>\n",
       "      <td>22</td>\n",
       "      <td>18</td>\n",
       "      <td>57.18</td>\n",
       "      <td>2.05</td>\n",
       "      <td>Business</td>\n",
       "      <td>No</td>\n",
       "      <td>Yes</td>\n",
       "    </tr>\n",
       "    <tr>\n",
       "      <th>499</th>\n",
       "      <td>500</td>\n",
       "      <td>Female</td>\n",
       "      <td>24</td>\n",
       "      <td>21</td>\n",
       "      <td>96.99</td>\n",
       "      <td>2.64</td>\n",
       "      <td>Engineering</td>\n",
       "      <td>No</td>\n",
       "      <td>No</td>\n",
       "    </tr>\n",
       "  </tbody>\n",
       "</table>\n",
       "<p>500 rows × 9 columns</p>\n",
       "</div>"
      ],
      "text/plain": [
       "     StudentID  Gender  Age  StudyHoursPerWeek  AttendanceRate   GPA  \\\n",
       "0            1    Male   24                 37           90.75  3.47   \n",
       "1            2  Female   22                 37           74.90  2.32   \n",
       "2            3    Male   22                 10           53.36  2.38   \n",
       "3            4    Male   24                 10           70.26  3.46   \n",
       "4            5    Male   18                 19           74.87  2.31   \n",
       "..         ...     ...  ...                ...             ...   ...   \n",
       "495        496    Male   22                 37           76.61  2.97   \n",
       "496        497    Male   23                 11           56.29  3.20   \n",
       "497        498  Female   20                  6           56.64  3.20   \n",
       "498        499    Male   22                 18           57.18  2.05   \n",
       "499        500  Female   24                 21           96.99  2.64   \n",
       "\n",
       "           Major PartTimeJob ExtraCurricularActivities  \n",
       "0           Arts         Yes                        No  \n",
       "1      Education          No                        No  \n",
       "2       Business          No                        No  \n",
       "3        Science         Yes                        No  \n",
       "4      Education         Yes                        No  \n",
       "..           ...         ...                       ...  \n",
       "495      Science          No                        No  \n",
       "496      Science          No                        No  \n",
       "497      Science          No                       Yes  \n",
       "498     Business          No                       Yes  \n",
       "499  Engineering          No                        No  \n",
       "\n",
       "[500 rows x 9 columns]"
      ]
     },
     "execution_count": 33,
     "metadata": {},
     "output_type": "execute_result"
    }
   ],
   "source": [
    "#importing the dataset\n",
    "student_df = pd.read_csv('student_performance_data.csv')\n",
    "student_df"
   ]
  },
  {
   "cell_type": "markdown",
   "id": "512f0d4d-d39b-433b-b59f-6736001d5817",
   "metadata": {},
   "source": [
    "## (a)"
   ]
  },
  {
   "cell_type": "code",
   "execution_count": 35,
   "id": "651a091d-dba7-4ba7-be0a-2fb67d105f4f",
   "metadata": {},
   "outputs": [
    {
     "name": "stdout",
     "output_type": "stream",
     "text": [
      "   Gender      Major  StudyHoursPerWeek\n",
      "1  Female   Business               1229\n",
      "7    Male  Education               1212\n"
     ]
    }
   ],
   "source": [
    "# Grouping by 'Gender' and 'Major', and suming up the 'StudyHoursPerWeek'\n",
    "study_hours_by_gender_and_major = student_df.groupby(['Gender', 'Major'])['StudyHoursPerWeek'].sum().reset_index()\n",
    "\n",
    "#finding the major with the highest total study hours for each gender.\n",
    "highest_study_hours = study_hours_by_gender_and_major.loc[study_hours_by_gender_and_major.groupby('Gender')['StudyHoursPerWeek'].idxmax()]\n",
    "\n",
    "# print the result\n",
    "print(highest_study_hours)\n"
   ]
  },
  {
   "cell_type": "markdown",
   "id": "381e346b-3dc5-434c-b12e-6a55a4fc7fb2",
   "metadata": {},
   "source": [
    "* groupby(['Gender', 'Major']) helps to group the data by Gender and Major.\n",
    "* sum(): Sums the StudyHoursPerWeek for each gender-major combination.\n",
    "* reset_index(): Resets the index to create a DataFrame from the groupby result.\n",
    "* groupby('Gender')['StudyHoursPerWeek'].  idxmax(): For each gender,it  identifies the index of the row with the highest total StudyHoursPerWeek.\n",
    "\n",
    "* For the female gender the major with the highest study hours per week is Business\n",
    "  \n",
    "* For the male gender the major with the highest study hours per week is Education."
   ]
  },
  {
   "cell_type": "markdown",
   "id": "59ffedda-fee6-4d6a-ad7e-3ae380d94aee",
   "metadata": {},
   "source": [
    "## (b)"
   ]
  },
  {
   "cell_type": "code",
   "execution_count": 36,
   "id": "7b0dd12b-f2da-4ce0-bff6-e2c7f872ba7b",
   "metadata": {},
   "outputs": [
    {
     "name": "stdout",
     "output_type": "stream",
     "text": [
      "The gender with the highest average attendance rate is Female with an attendance rate of 75.93.\n"
     ]
    }
   ],
   "source": [
    "#Group by 'Gender' and calculate the mean 'AttendanceRate'\n",
    "average_attendance_by_gender = student_df.groupby('Gender')['AttendanceRate'].mean()\n",
    "\n",
    "# Find the gender with the highest average attendance rate\n",
    "highest_attendance_gender = average_attendance_by_gender.idxmax()\n",
    "highest_attendance_rate = average_attendance_by_gender.max()\n",
    "\n",
    "# print the result\n",
    "print(f\"The gender with the highest average attendance rate is {highest_attendance_gender} with an attendance rate of {highest_attendance_rate:.2f}.\")\n"
   ]
  },
  {
   "cell_type": "markdown",
   "id": "daf402cb-b0e2-4e97-8044-1068267c590e",
   "metadata": {},
   "source": [
    "## (c)"
   ]
  },
  {
   "cell_type": "code",
   "execution_count": 37,
   "id": "75f51dc0-9cd3-4d9a-b7e2-65a6ad4102dd",
   "metadata": {},
   "outputs": [
    {
     "name": "stdout",
     "output_type": "stream",
     "text": [
      "PartTimeJob\n",
      "Yes    53.6\n",
      "No     46.4\n",
      "Name: count, dtype: float64\n"
     ]
    }
   ],
   "source": [
    "#Grouping by 'PartTime' and counting the occurrences\n",
    "part_time_counts = student_df['PartTimeJob'].value_counts()\n",
    "\n",
    "# Calculate the percentage of students with and without part-time jobs\n",
    "part_time_percentage = (part_time_counts / len(student_df)) * 100 # len counts the number of students\n",
    "\n",
    "# print the result\n",
    "print(part_time_percentage)\n"
   ]
  },
  {
   "cell_type": "markdown",
   "id": "74af0707-2513-4df1-92c5-fd343eb6f3c2",
   "metadata": {},
   "source": [
    "* 53.6 % of the students have part time jobs represented by yes above.\n",
    "* 46.4 % of the students have no part time jobs represented by no in the output above.\n",
    "* This implies that the percentage of the students with part time jobs is greater than that of those with no jobs thus a bigger number is employed"
   ]
  },
  {
   "cell_type": "markdown",
   "id": "e1427a1e-cd77-4ea2-be9f-c5c55954b65b",
   "metadata": {},
   "source": [
    "## (d)"
   ]
  },
  {
   "cell_type": "code",
   "execution_count": 39,
   "id": "ed251999-0672-482a-b8e6-921d1b5539be",
   "metadata": {},
   "outputs": [
    {
     "name": "stdout",
     "output_type": "stream",
     "text": [
      "   Gender       GPA       Age\n",
      "0  Female  2.995352  4.005637\n",
      "1    Male  2.974467  3.960130\n"
     ]
    }
   ],
   "source": [
    "#Group by 'Gender' and then calculate the mean GPA and variance of age\n",
    "genderStatistics = student_df.groupby('Gender').agg({'GPA': 'mean', 'Age': 'var'}).reset_index()\n",
    "\n",
    "# Display the result\n",
    "print(genderStatistics)\n"
   ]
  },
  {
   "cell_type": "markdown",
   "id": "96886e2f-2786-4e11-9af7-1f97fd0c2b12",
   "metadata": {},
   "source": [
    "* The mean GPA of the female gender is 2.995352 and the mean GPA for the male gender is 2.974446.\n",
    "  This means that the mean GPA of females is slightly higher than that of males and their difference in Mean GPAs relatively small and it suggests that  on average, females have a higher GPA than males in the dataset.\n",
    "\n",
    "* The variance of age of the female gender is 4.005637 and the the one for the male gender is 3.960130\n",
    "  The variance of age for females is slightly higher than for males meaning there is more variation in the ages of female students compared to male students.A higher variance in age for females indicate that the age group of females in the dataset is more diverse implying that the female group could have both younger and older individual students, whereas the male group might be more concentrated around a certain age either the young or the old ones."
   ]
  },
  {
   "cell_type": "markdown",
   "id": "05a377ac-f1d8-4242-8a7a-739a27bc961e",
   "metadata": {},
   "source": [
    "## (e)"
   ]
  },
  {
   "cell_type": "code",
   "execution_count": 46,
   "id": "185b24e2-b794-4f76-8fa8-eef6827e3fe7",
   "metadata": {},
   "outputs": [
    {
     "data": {
      "image/png": "[encoded data removed]",
      "text/plain": [
       "<Figure size 640x480 with 1 Axes>"
      ]
     },
     "metadata": {},
     "output_type": "display_data"
    }
   ],
   "source": [
    "#To create a visualization that effectively shows the relationship between two variables,I will use a scatter plot with a regression line also known as a\n",
    "# line of best fit to illustrate the relationship. A scatter plot is ideal when you want to examine how one variable changes in relation to another.\n",
    "# Create a scatter plot with a regression line to show the relationship between Study Hours and GPA\n",
    "sns.regplot(x='Age', y='GPA', data=student_df);plt.title('Relationship Between Age and GPA');plt.xlabel('Age');plt.ylabel('GPA');plt.show()\n"
   ]
  },
  {
   "cell_type": "code",
   "execution_count": 86,
   "id": "76af37b7-dea1-4b58-b307-985b4dacc73e",
   "metadata": {},
   "outputs": [],
   "source": [
    "# for number two i used intro_numpy,intro_pandas and matplotlib notebooks and eda notes."
   ]
  },
  {
   "cell_type": "markdown",
   "id": "13636ce7-2712-40b9-979c-a4e4d5acc0ec",
   "metadata": {},
   "source": [
    "# Number 3"
   ]
  },
  {
   "cell_type": "markdown",
   "id": "d6f177fb-938c-44aa-9227-5a32a3d83d3c",
   "metadata": {},
   "source": [
    "## (a)"
   ]
  },
  {
   "cell_type": "markdown",
   "id": "d78d1df2-f9a3-4604-aa32-8a723db90a9c",
   "metadata": {},
   "source": [
    "1. Import the required libraries like matplotlib, seaborn, pandas,scikit-learn ,numpy.\n",
    "2. Prepare the data by identifying the dependent variable (y) and the independent variable(x)\n",
    "3. Splitting the data into testing and training for model evaluation\n",
    "4. Create and fit the linear regression model to the data\n",
    "5. Make predictions on the new data after training and evaluate the model\n",
    "6. Visualize the data"
   ]
  },
  {
   "cell_type": "markdown",
   "id": "4a508a82-d6bc-4d4a-9469-397319370e93",
   "metadata": {},
   "source": [
    "## (b)"
   ]
  },
  {
   "cell_type": "markdown",
   "id": "fa7d334f-211f-4705-88be-b82b3e28b8d9",
   "metadata": {},
   "source": [
    "* assumptions of linear regression are;\n",
    "1. The independent variable x is identically dependent.\n",
    "2. The relationship between the dependent variable y and the independent variable x must be linear.\n",
    "3.  Homoscedasticity known as the Constant Variance. This means the distance between the predicted values and actual values should be the same for all values of the independent variable(s).\n",
    "4. The difference between the predicted and the actual values should follow a normal distribution  "
   ]
  },
  {
   "cell_type": "markdown",
   "id": "0ab8552b-781a-4abc-864b-35e9115b7a47",
   "metadata": {},
   "source": [
    "## (c)"
   ]
  },
  {
   "cell_type": "code",
   "execution_count": 68,
   "id": "a95459c7-5919-48d1-8d14-e0d955ed2f27",
   "metadata": {},
   "outputs": [
    {
     "name": "stdout",
     "output_type": "stream",
     "text": [
      "The regression Equation is : y = 63845.446358076086 + -1482.2081875204674 * Income-wages\n"
     ]
    }
   ],
   "source": [
    "# Select the independent variable (X) and dependent variable (y)\n",
    "X = census_df[['Family_size']]  # Independent variable\n",
    "y = census_df['Income-wages']  # Dependent variable\n",
    "\n",
    "# Splitting data into training and testing sets (using 80% for training and 20% for testing)\n",
    "X_train, X_test, y_train, y_test = train_test_split(X, y, test_size=0.2, random_state=42)\n",
    "\n",
    "# Create a linear regression model\n",
    "model = LinearRegression()\n",
    "\n",
    "# Training the model with the training data\n",
    "model.fit(X_train, y_train)\n",
    "\n",
    "# the model's coefficients (slope and intercept)\n",
    "model_intercept = model.intercept_\n",
    "slope = model.coef_[0]\n",
    "\n",
    "# Print the regression equation\n",
    "print(f\"The regression Equation is : y = {model_intercept:} + {slope:} * Income-wages\") #The output will have numbers rounded off to two significant figures\n",
    "\n",
    "\n"
   ]
  },
  {
   "cell_type": "markdown",
   "id": "bf0121f8-4548-4e4d-ad1a-d691441db673",
   "metadata": {},
   "source": [
    "## (d)"
   ]
  },
  {
   "cell_type": "code",
   "execution_count": 69,
   "id": "c433a05d-10e7-4864-84ce-7fa595ad3307",
   "metadata": {},
   "outputs": [
    {
     "name": "stdout",
     "output_type": "stream",
     "text": [
      "The Mean Absolute Error is : 37561.28065670308\n"
     ]
    }
   ],
   "source": [
    "# first make predictions using the test data\n",
    "y_pred = model.predict(X_test)\n",
    "\n",
    "# Calculate the Mean Absolute Error (MAE)\n",
    "mae = mean_absolute_error(y_test, y_pred)\n",
    "\n",
    "# Print the MAE\n",
    "print(f\"The Mean Absolute Error is : {mae}\")"
   ]
  },
  {
   "cell_type": "markdown",
   "id": "356c1bcc-af07-457a-82a6-ba54f98046d3",
   "metadata": {},
   "source": [
    "## (e)"
   ]
  },
  {
   "cell_type": "code",
   "execution_count": 65,
   "id": "8f79b4bb-e50a-4959-a1a4-c8d88b2daf0c",
   "metadata": {},
   "outputs": [
    {
     "name": "stdout",
     "output_type": "stream",
     "text": [
      "The Mean Absolute Error is : 1.2466402469856048\n",
      "R-squared: -0.01\n",
      "The Mean Squared Error: 2.4018637949733708\n",
      "The Mean Absolute Error is : 1.2466402469856048\n"
     ]
    }
   ],
   "source": [
    "# first make predictions using the test data\n",
    "y_pred = model.predict(X_test)\n",
    "\n",
    "# Calculate the Mean Absolute Error (MAE)\n",
    "mae = mean_absolute_error(y_test, y_pred)\n",
    "\n",
    "# Print the MAE\n",
    "print(f\"The Mean Absolute Error is : {mae}\")\n",
    "\n",
    "# Making predictions using the test set\n",
    "y_pred = model.predict(X_test)\n",
    "\n",
    "# Calculate the R² score (Goodness of fit)\n",
    "r2 = r2_score(y_test, y_pred)\n",
    "print(f\"R-squared: {r2:.2f}\")\n",
    "\n",
    "# Calculate Mean Squared Error (MSE)\n",
    "mse = mean_squared_error(y_test, y_pred)\n",
    "print(f\"The Mean Squared Error: {mse}\")\n",
    "print(f\"The Mean Absolute Error is : {mae}\")\n"
   ]
  },
  {
   "cell_type": "markdown",
   "id": "b77213b1-9259-4fff-85d1-c3449cde92ee",
   "metadata": {},
   "source": [
    "## (f)"
   ]
  },
  {
   "cell_type": "code",
   "execution_count": 71,
   "id": "2e48997f-b4fe-42bc-af44-25902026bb06",
   "metadata": {},
   "outputs": [
    {
     "data": {
      "image/png": "[encoded data removed]",
      "text/plain": [
       "<Figure size 640x480 with 1 Axes>"
      ]
     },
     "metadata": {},
     "output_type": "display_data"
    }
   ],
   "source": [
    "# Plotting the data points and the regression line (line of best fit)\n",
    "plt.scatter(X_test, y_test, color='blue', label='Actual data')\n",
    "plt.plot(X_test, y_pred, color='red', label='Regression line')\n",
    "plt.xlabel('Family_size')\n",
    "plt.ylabel('Income-wages')\n",
    "plt.title('Visualization of Linear Regression model')\n",
    "plt.legend\n",
    "plt.grid(True)\n",
    "plt.show()\n"
   ]
  },
  {
   "cell_type": "markdown",
   "id": "fcd0d48a-9a5c-43da-8636-50e3eba46e6d",
   "metadata": {},
   "source": [
    "* The scatter plot shows the data points, and the red line represents the linear regression model's predictions based on the census_df data.\n",
    "* This plot allows you to visually evaluate how well the regression line fits the data."
   ]
  },
  {
   "cell_type": "code",
   "execution_count": null,
   "id": "0da5dc74-047c-4651-a7db-072e0a3c356e",
   "metadata": {},
   "outputs": [],
   "source": [
    "#number three i used the linear regression notes,univariate_linear_regression notebook"
   ]
  },
  {
   "cell_type": "markdown",
   "id": "fa100873-7680-4cf5-8ea3-14ae26e4812a",
   "metadata": {},
   "source": [
    "# Number 4"
   ]
  },
  {
   "cell_type": "markdown",
   "id": "76de218d-4e73-4a82-bce4-36d49a6ee87e",
   "metadata": {},
   "source": [
    "## (a)"
   ]
  },
  {
   "cell_type": "code",
   "execution_count": 75,
   "id": "b171a588-7226-456f-b827-9a299d81610c",
   "metadata": {},
   "outputs": [
    {
     "name": "stdout",
     "output_type": "stream",
     "text": [
      "[[ 1  1  2]\n",
      " [ 3  4 -1]\n",
      " [ 5  2  6]\n",
      " [ 7  1  8]\n",
      " [ 2  3  1]]\n"
     ]
    }
   ],
   "source": [
    "# create a 5x3 matrix\n",
    "matrix_A = np.array([[1, 1,2], [3, 4,-1], [5,2, 6], [7,1, 8],[2,3,1]])\n",
    "print(matrix_A)"
   ]
  },
  {
   "cell_type": "code",
   "execution_count": 73,
   "id": "b82adfab-1f27-4808-a677-5346a5dde9cd",
   "metadata": {},
   "outputs": [
    {
     "name": "stdout",
     "output_type": "stream",
     "text": [
      "[[1 2]\n",
      " [3 4]\n",
      " [5 6]]\n"
     ]
    }
   ],
   "source": [
    "# create a 3x2 matrix\n",
    "matrix_B = np.array([[1, 2], [3, 4], [5, 6]])\n",
    "print(matrix_B)"
   ]
  },
  {
   "cell_type": "code",
   "execution_count": 74,
   "id": "37c938b6-cad7-48a4-8a61-8b8f5679e41c",
   "metadata": {},
   "outputs": [
    {
     "name": "stdout",
     "output_type": "stream",
     "text": [
      "[[14 18]\n",
      " [10 16]\n",
      " [41 54]\n",
      " [50 66]\n",
      " [16 22]]\n"
     ]
    }
   ],
   "source": [
    "#multiplying the two matrices\n",
    "multiplication = np.dot(matrix_A,matrix_B)\n",
    "print(multiplication)"
   ]
  },
  {
   "cell_type": "markdown",
   "id": "456ac15d-506f-4bc0-adf9-0408a15b8afe",
   "metadata": {},
   "source": [
    "## (b)"
   ]
  },
  {
   "cell_type": "code",
   "execution_count": 76,
   "id": "3747da0f-b318-438c-94d1-d781d23dd95d",
   "metadata": {},
   "outputs": [
    {
     "name": "stdout",
     "output_type": "stream",
     "text": [
      "[[1 0 0]\n",
      " [0 1 0]\n",
      " [0 0 1]]\n"
     ]
    }
   ],
   "source": [
    "# create a 3x3 identity matrix\n",
    "identity = np.array([[1,0,0],[0,1,0],[0,0,1]])\n",
    "print(identity)"
   ]
  },
  {
   "cell_type": "markdown",
   "id": "79e8be31-2a4f-4bee-ac2c-6a445f2b6929",
   "metadata": {},
   "source": [
    "## (c)"
   ]
  },
  {
   "cell_type": "code",
   "execution_count": 77,
   "id": "251d1bda-3076-46f8-8110-107133f4fd4a",
   "metadata": {},
   "outputs": [
    {
     "name": "stdout",
     "output_type": "stream",
     "text": [
      "[10, 11, 12, 13, 14, 15, 16, 17, 18, 19, 20, 21, 22, 23, 24, 25, 26, 27, 28, 29, 30, 31, 32, 33, 34, 35, 36, 37, 38, 39, 40, 41, 42, 43, 44, 45, 46, 47, 48, 49]\n"
     ]
    }
   ],
   "source": [
    "#create a vector with values ranging from 10 to 49 \n",
    "vector = list(range(10,50))\n",
    "print(vector)"
   ]
  },
  {
   "cell_type": "markdown",
   "id": "9f451a34-769f-4f4a-ab0b-7a95897ddb53",
   "metadata": {},
   "source": [
    "## (d)"
   ]
  },
  {
   "cell_type": "code",
   "execution_count": 78,
   "id": "4a859fa9-d780-41c8-90bf-eb63a7dc073b",
   "metadata": {},
   "outputs": [
    {
     "name": "stdout",
     "output_type": "stream",
     "text": [
      "[0. 0. 0. 0. 0. 0. 0. 0. 0. 0.]\n"
     ]
    }
   ],
   "source": [
    "#create a null(zero) vector of size 10\n",
    "null_vector =np.zeros(10)\n",
    "print(null_vector)"
   ]
  },
  {
   "cell_type": "markdown",
   "id": "24ad4440-c3cd-4c13-84da-643066d0cc0c",
   "metadata": {},
   "source": [
    "## (e)"
   ]
  },
  {
   "cell_type": "code",
   "execution_count": 79,
   "id": "4122c381-1dfa-43a2-af35-1b9539944318",
   "metadata": {},
   "outputs": [
    {
     "name": "stdout",
     "output_type": "stream",
     "text": [
      "[[[0.77397105 0.28815417 0.56230154]\n",
      "  [0.60893987 0.43541365 0.16041856]\n",
      "  [0.73445188 0.0422207  0.97454591]]\n",
      "\n",
      " [[0.6331726  0.68714422 0.17241417]\n",
      "  [0.59998402 0.15140019 0.85910823]\n",
      "  [0.28748534 0.64726154 0.65964977]]\n",
      "\n",
      " [[0.14702829 0.84197234 0.27153238]\n",
      "  [0.92035394 0.93559463 0.79024424]\n",
      "  [0.91170337 0.74931889 0.83195856]]]\n"
     ]
    }
   ],
   "source": [
    "# 3x3x3 array with random \n",
    "randomArray = np.random.rand(3,3,3)\n",
    "print(randomArray) #displays random numbers"
   ]
  },
  {
   "cell_type": "markdown",
   "id": "4110e173-a0a2-4ffb-bbc0-c0f00aaa94e5",
   "metadata": {},
   "source": [
    "## (f)"
   ]
  },
  {
   "cell_type": "code",
   "execution_count": 80,
   "id": "469ed688-da14-4efb-aac1-648ed78de50f",
   "metadata": {},
   "outputs": [
    {
     "name": "stdout",
     "output_type": "stream",
     "text": [
      "[[0 0 0 0 0]\n",
      " [1 0 0 0 0]\n",
      " [1 2 0 0 0]\n",
      " [1 2 3 0 0]\n",
      " [1 2 3 4 0]]\n"
     ]
    }
   ],
   "source": [
    "# Create a 5x5 matrix with values 1,2,3,4 just below the diagonal\n",
    "matrix = np.array([[0,0,0,0,0],[1,0,0,0,0],[1,2,0,0,0],[1,2,3,0,0],[1,2,3,4,0]])\n",
    "print(matrix)"
   ]
  },
  {
   "cell_type": "markdown",
   "id": "4c6532d5-d084-4ed6-bf04-09fc7eaf3b4d",
   "metadata": {},
   "source": [
    "## (g)"
   ]
  },
  {
   "cell_type": "code",
   "execution_count": 81,
   "id": "60725e98-9b4a-47bb-8788-6f49ae4f28b8",
   "metadata": {},
   "outputs": [
    {
     "name": "stdout",
     "output_type": "stream",
     "text": [
      "Normalized Matrix:\n",
      "[[0.63705118 0.34948097 0.240317   0.61956242 0.76124399]\n",
      " [0.50372674 0.96429638 0.33214627 0.83234014 0.99961189]\n",
      " [0.82091887 1.         0.46467107 0.12958972 0.41913289]\n",
      " [0.18953784 0.3650654  0.73010048 0.19424063 0.        ]\n",
      " [0.43766607 0.6176446  0.71698092 0.78405139 0.62274176]]\n"
     ]
    }
   ],
   "source": [
    "# Create a random 5x5 matrix and normalize it\n",
    "matrix = np.random.rand(5, 5) # Random 5x5 matrix with values between 0 and 1\n",
    "#normalizing\n",
    "normalized_matrix = (matrix - matrix.min()) / (matrix.max() - matrix.min())\n",
    "\n",
    "print(\"Normalized Matrix:\")\n",
    "print(normalized_matrix)\n"
   ]
  },
  {
   "cell_type": "markdown",
   "id": "88ab2ff8-4d6b-4efe-85c9-3ef1fcdd2249",
   "metadata": {},
   "source": [
    "## (h)"
   ]
  },
  {
   "cell_type": "code",
   "execution_count": 83,
   "id": "c86c0625-0e4b-415e-b12f-9a7b4bf81aad",
   "metadata": {},
   "outputs": [
    {
     "name": "stdout",
     "output_type": "stream",
     "text": [
      "Today's date is : 2024-12-13\n",
      "Yesterday's date is : 2024-12-12\n",
      "Tomorrow's date is: 2024-12-14\n"
     ]
    }
   ],
   "source": [
    "#today's date\n",
    "today = datetime.now().date()\n",
    "\n",
    "# yesterday's date\n",
    "yesterday = today - timedelta(days=1)\n",
    "\n",
    "# tomorrows date\n",
    "tomorrow = today + timedelta(days=1)\n",
    "\n",
    "print(\"Today's date is :\",today)\n",
    "print(\"Yesterday's date is :\",yesterday)\n",
    "print(\"Tomorrow's date is:\" , tomorrow)"
   ]
  },
  {
   "cell_type": "markdown",
   "id": "5c6a7c8f-24e5-405c-9457-10380a2de3fe",
   "metadata": {},
   "source": [
    "## (i)"
   ]
  },
  {
   "cell_type": "code",
   "execution_count": 84,
   "id": "6c70a87d-83a5-40a1-8a9d-1c993ae4d7df",
   "metadata": {},
   "outputs": [
    {
     "name": "stdout",
     "output_type": "stream",
     "text": [
      "[0 1 4]\n"
     ]
    }
   ],
   "source": [
    "# create an array\n",
    "array = np.array([1,2,0,0,4,0])\n",
    "indices = np.nonzero(array)[0]\n",
    "print(indices)"
   ]
  },
  {
   "cell_type": "code",
   "execution_count": 87,
   "id": "14148bcc-8b4b-4e54-8b8b-1f9dcaa39327",
   "metadata": {},
   "outputs": [],
   "source": [
    "# number four i used intro_numpy notebook,mathematics foundations for data science notes pdf,linear algebra for data science."
   ]
  }
 ],
 "metadata": {
  "kernelspec": {
   "display_name": "Python 3 (ipykernel)",
   "language": "python",
   "name": "python3"
  },
  "language_info": {
   "codemirror_mode": {
    "name": "ipython",
    "version": 3
   },
   "file_extension": ".py",
   "mimetype": "text/x-python",
   "name": "python",
   "nbconvert_exporter": "python",
   "pygments_lexer": "ipython3",
   "version": "3.12.6"
  }
 },
 "nbformat": 4,
 "nbformat_minor": 5
}
